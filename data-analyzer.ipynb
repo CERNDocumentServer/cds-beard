{
 "cells": [
  {
   "cell_type": "code",
   "execution_count": 2,
   "metadata": {
    "collapsed": true
   },
   "outputs": [],
   "source": [
    "from itertools import chain\n",
    "from json import load"
   ]
  },
  {
   "cell_type": "code",
   "execution_count": 3,
   "metadata": {
    "collapsed": false,
    "scrolled": true
   },
   "outputs": [
    {
     "name": "stdout",
     "output_type": "stream",
     "text": [
      "399602\n"
     ]
    }
   ],
   "source": [
    "clusters = load(open(\"/data01/beard/predicted_clusters.json\"))\n",
    "print len(clusters)"
   ]
  },
  {
   "cell_type": "code",
   "execution_count": 4,
   "metadata": {
    "collapsed": false
   },
   "outputs": [
    {
     "name": "stdout",
     "output_type": "stream",
     "text": [
      "8958311\n"
     ]
    }
   ],
   "source": [
    "signatures = load(open(\"/data01/beard/signatures.json\"))\n",
    "signatures = {s[\"signature_id\"]: s for s in signatures}\n",
    "print len(signatures)"
   ]
  },
  {
   "cell_type": "code",
   "execution_count": 4,
   "metadata": {
    "collapsed": false,
    "scrolled": false
   },
   "outputs": [
    {
     "name": "stdout",
     "output_type": "stream",
     "text": [
      "1113\n"
     ]
    },
    {
     "data": {
      "text/plain": [
       "[u'1000048_Ellis, Jonathan Richard_3262364',\n",
       " u'1000177_Ellis, Jonathan Richard_3262984',\n",
       " u'1001210_Ellis, Jonathan Richard_3266914',\n",
       " u'1001460_Ellis, Jonathan Richard_3267662',\n",
       " u'1001565_Ellis, Jonathan Richard_3267740',\n",
       " u'1001569_Ellis, Jonathan Richard_3267743',\n",
       " u'1002686_Ellis, Jonathan Richard_3270135',\n",
       " u'100545_Ellis, Jonathan Richard_13778',\n",
       " u'1006573_Ellis, Jonathan Richard_3286656',\n",
       " u'1007488_Ellis, Jonathan Richard_3290021']"
      ]
     },
     "execution_count": 4,
     "metadata": {},
     "output_type": "execute_result"
    }
   ],
   "source": [
    "cluster = \"370011\"\n",
    "print len(clusters[cluster])\n",
    "clusters[cluster][:10]"
   ]
  },
  {
   "cell_type": "code",
   "execution_count": 10,
   "metadata": {
    "collapsed": false,
    "scrolled": true
   },
   "outputs": [
    {
     "data": {
      "text/plain": [
       "{u'author_affiliation': u'CERN',\n",
       " u'author_name': u'Ellis, John',\n",
       " u'publication_id': u'526969',\n",
       " u'signature_id': u'526969_Ellis, John_1826426'}"
      ]
     },
     "execution_count": 10,
     "metadata": {},
     "output_type": "execute_result"
    }
   ],
   "source": [
    "signatures[\"526969_Ellis, John_1826426\"]"
   ]
  },
  {
   "cell_type": "code",
   "execution_count": 40,
   "metadata": {
    "collapsed": false
   },
   "outputs": [
    {
     "name": "stdout",
     "output_type": "stream",
     "text": [
      "aeiou aeiou o nN u\n",
      "4989\n"
     ]
    }
   ],
   "source": [
    "import re\n",
    "from unidecode import unidecode\n",
    "p = re.compile(r\"^([a-zA-Z]+[-'`,.~\\s]*[a-zA-Z]*){3,}\", flags=re.UNICODE)\n",
    "\n",
    "# http://fabzter.com/blog/remove-nonspacing-characters-text-python\n",
    "print(unidecode(u\"áéíóú äëïöü ø ñÑ û\"))  # Test removing accents and stuff\n",
    "\n",
    "# Match invalid author names in signatures\n",
    "invalid_pairs = []  # pair representing (record_id, author_name)\n",
    "for signature in signatures.itervalues():\n",
    "    author_name = signature[\"author_name\"]\n",
    "    author_name.lstrip()  # Strip leading white spaces\n",
    "\n",
    "    if not p.match(unidecode(author_name)):\n",
    "        invalid_pairs.append( (signature[\"publication_id\"], author_name) )\n",
    "\n",
    "print len(invalid_pairs)"
   ]
  },
  {
   "cell_type": "code",
   "execution_count": 69,
   "metadata": {
    "collapsed": false
   },
   "outputs": [
    {
     "name": "stdout",
     "output_type": "stream",
     "text": [
      "370011\n"
     ]
    }
   ],
   "source": [
    "# signature id format: '<publication id>_<author fullname>_<continous number>'\n",
    "for cluster in clusters:\n",
    "    if any(\"_Ellis, John\" in signature_id for signature_id in clusters[cluster]):\n",
    "        print cluster"
   ]
  },
  {
   "cell_type": "code",
   "execution_count": 5,
   "metadata": {
    "collapsed": false
   },
   "outputs": [
    {
     "name": "stdout",
     "output_type": "stream",
     "text": [
      "CDS authority ids: 1136 signatures in 580 clusters.\n",
      "CERN authority ids: 1121167 signatures in 7673 clusters.\n",
      "INSPIRE authority ids: 2922943 signatures in 16288 clusters.\n",
      "2927170\n",
      "17373\n"
     ]
    }
   ],
   "source": [
    "# Format: {cluster: list of signature ids having a authority id}\n",
    "clusters_having_cds_id = {}\n",
    "clusters_having_cern_id = {}\n",
    "clusters_having_inspire_id = {}\n",
    "\n",
    "for cluster in clusters:\n",
    "    for signature_id in clusters[cluster]:\n",
    "        signature = signatures[signature_id]\n",
    "\n",
    "        if signature.get(\"author_cds_id\"):\n",
    "            try:\n",
    "                clusters_having_cds_id[cluster].append(signature_id)\n",
    "            except KeyError:\n",
    "                clusters_having_cds_id[cluster] = [signature_id]\n",
    "\n",
    "        if signature.get(\"author_cern_id\"):\n",
    "            try:\n",
    "                clusters_having_cern_id[cluster].append(signature_id)\n",
    "            except KeyError:\n",
    "                clusters_having_cern_id[cluster] = [signature_id]\n",
    "\n",
    "        if signature.get(\"author_inspire_id\"):\n",
    "            try:\n",
    "                clusters_having_inspire_id[cluster].append(signature_id)\n",
    "            except KeyError:\n",
    "                clusters_having_inspire_id[cluster] = [signature_id]\n",
    "\n",
    "print \"CDS authority ids: {} signatures in {} clusters.\".format(\n",
    "    sum(len(cluster) for cluster in clusters_having_cds_id.itervalues()),\n",
    "    len(clusters_having_cds_id))\n",
    "\n",
    "print \"CERN authority ids: {} signatures in {} clusters.\".format(\n",
    "    sum(len(cluster) for cluster in clusters_having_cern_id.itervalues()),\n",
    "    len(clusters_having_cern_id))\n",
    "\n",
    "print \"INSPIRE authority ids: {} signatures in {} clusters.\".format(\n",
    "    sum(len(cluster) for cluster in clusters_having_inspire_id.itervalues()),\n",
    "    len(clusters_having_inspire_id))\n",
    "\n",
    "# Distinct signatures\n",
    "print len(set(list(chain.from_iterable([s for s in clusters_having_cds_id.itervalues()])) +\n",
    "        list(chain.from_iterable([s for s in clusters_having_cern_id.itervalues()])) +\n",
    "        list(chain.from_iterable([s for s in clusters_having_inspire_id.itervalues()]))))\n",
    "\n",
    "# Distinct clusters\n",
    "print len(set(clusters_having_cds_id.keys() +\n",
    "        clusters_having_cern_id.keys() +\n",
    "        clusters_having_inspire_id.keys()))"
   ]
  }
 ],
 "metadata": {
  "kernelspec": {
   "display_name": "Python 2",
   "language": "python",
   "name": "python2"
  },
  "language_info": {
   "codemirror_mode": {
    "name": "ipython",
    "version": 2
   },
   "file_extension": ".py",
   "mimetype": "text/x-python",
   "name": "python",
   "nbconvert_exporter": "python",
   "pygments_lexer": "ipython2",
   "version": "2.7.11"
  }
 },
 "nbformat": 4,
 "nbformat_minor": 0
}
