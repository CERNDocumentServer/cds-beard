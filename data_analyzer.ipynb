{
 "cells": [
  {
   "cell_type": "markdown",
   "metadata": {
    "collapsed": true
   },
   "source": [
    "Input data `signatures` and `records`."
   ]
  },
  {
   "cell_type": "code",
   "execution_count": 12,
   "metadata": {
    "collapsed": true
   },
   "outputs": [],
   "source": [
    "import pandas as pd\n",
    "import re\n",
    "\n",
    "from json import load\n",
    "from unidecode import unidecode"
   ]
  },
  {
   "cell_type": "code",
   "execution_count": 19,
   "metadata": {
    "collapsed": false
   },
   "outputs": [],
   "source": [
    "signatures = load(open(\"/data01/beard/clustering/signatures.json\"))\n",
    "signatures = {s[\"signature_id\"]: s for s in signatures}"
   ]
  },
  {
   "cell_type": "code",
   "execution_count": 20,
   "metadata": {
    "collapsed": false
   },
   "outputs": [],
   "source": [
    "records = load(open(\"/data01/beard/clustering/records.json\"))\n",
    "records = {r[\"publication_id\"]: r for r in records}"
   ]
  },
  {
   "cell_type": "code",
   "execution_count": 9,
   "metadata": {
    "collapsed": false
   },
   "outputs": [
    {
     "data": {
      "text/html": [
       "<div>\n",
       "<table border=\"1\" class=\"dataframe\">\n",
       "  <thead>\n",
       "    <tr style=\"text-align: right;\">\n",
       "      <th></th>\n",
       "      <th>Count</th>\n",
       "    </tr>\n",
       "  </thead>\n",
       "  <tbody>\n",
       "    <tr>\n",
       "      <th>Signatures</th>\n",
       "      <td>8958311</td>\n",
       "    </tr>\n",
       "    <tr>\n",
       "      <th>Records</th>\n",
       "      <td>1137394</td>\n",
       "    </tr>\n",
       "  </tbody>\n",
       "</table>\n",
       "</div>"
      ],
      "text/plain": [
       "              Count\n",
       "Signatures  8958311\n",
       "Records     1137394"
      ]
     },
     "execution_count": 9,
     "metadata": {},
     "output_type": "execute_result"
    }
   ],
   "source": [
    "data = [len(signatures), len(records)]\n",
    "index = ['Signatures',  # Total number of signatures\n",
    "         'Records',  # Total number of records\n",
    "        ]\n",
    "d = {'Count': data}\n",
    "df = pd.DataFrame(data=d, index=index)\n",
    "df"
   ]
  },
  {
   "cell_type": "markdown",
   "metadata": {},
   "source": [
    "Example of a (random) signature `s` and record element `r`, where `s` is a contributor of `r`. Represented as a JSON array:"
   ]
  },
  {
   "cell_type": "code",
   "execution_count": 10,
   "metadata": {
    "collapsed": false
   },
   "outputs": [
    {
     "data": {
      "text/plain": [
       "{u'authors': [u'Ellis, John', u'Mustafayev, Azar', u'Olive, Keith A'],\n",
       " u'publication_id': u'1262925',\n",
       " u'title': u'Resurrecting No-Scale Supergravity Phenomenology',\n",
       " u'year': u'2010'}"
      ]
     },
     "execution_count": 10,
     "metadata": {},
     "output_type": "execute_result"
    }
   ],
   "source": [
    "records['1262925']"
   ]
  },
  {
   "cell_type": "code",
   "execution_count": 11,
   "metadata": {
    "collapsed": false,
    "scrolled": false
   },
   "outputs": [
    {
     "data": {
      "text/plain": [
       "{u'author_affiliation': u'CERN',\n",
       " u'author_inspire_id': u'00146525',\n",
       " u'author_name': u'Ellis, John',\n",
       " u'publication_id': u'1262925',\n",
       " u'signature_id': u'1262925_Ellis, John_4155994'}"
      ]
     },
     "execution_count": 11,
     "metadata": {},
     "output_type": "execute_result"
    }
   ],
   "source": [
    "signatures['1262925_Ellis, John_4155994']"
   ]
  },
  {
   "cell_type": "markdown",
   "metadata": {},
   "source": [
    "Brief statistics for `records` and `signatures` (see `predicted-clusters_analyzer` for more signature statistics):"
   ]
  },
  {
   "cell_type": "code",
   "execution_count": 18,
   "metadata": {
    "collapsed": false
   },
   "outputs": [
    {
     "data": {
      "text/html": [
       "<div>\n",
       "<table border=\"1\" class=\"dataframe\">\n",
       "  <thead>\n",
       "    <tr style=\"text-align: right;\">\n",
       "      <th></th>\n",
       "      <th>Count</th>\n",
       "    </tr>\n",
       "  </thead>\n",
       "  <tbody>\n",
       "    <tr>\n",
       "      <th>Records having title</th>\n",
       "      <td>1118457</td>\n",
       "    </tr>\n",
       "    <tr>\n",
       "      <th>Records having year</th>\n",
       "      <td>1134291</td>\n",
       "    </tr>\n",
       "    <tr>\n",
       "      <th>Signatures having affiliation</th>\n",
       "      <td>3605596</td>\n",
       "    </tr>\n",
       "  </tbody>\n",
       "</table>\n",
       "</div>"
      ],
      "text/plain": [
       "                                 Count\n",
       "Records having title           1118457\n",
       "Records having year            1134291\n",
       "Signatures having affiliation  3605596"
      ]
     },
     "execution_count": 18,
     "metadata": {},
     "output_type": "execute_result"
    }
   ],
   "source": [
    "r_title = len([r for r in records.itervalues() if r[\"title\"]])\n",
    "r_year = len([r for r in records.itervalues() if r[\"year\"]])\n",
    "s_affiliation = len([s for s in signatures.itervalues() if s[\"author_affiliation\"]])\n",
    "\n",
    "data = [r_title, r_year, s_affiliation]\n",
    "index = ['Records having title',\n",
    "         'Records having year',\n",
    "         'Signatures having affiliation'\n",
    "        ]\n",
    "d = {'Count': data}\n",
    "df = pd.DataFrame(data=d, index=index)\n",
    "df"
   ]
  },
  {
   "cell_type": "markdown",
   "metadata": {},
   "source": [
    "While running the disambiguation on the signature set, we have found `invalid` author full names, stored in the MARC 21 field `100__a`. However, the applied regular expression may not cover all invalid cases. The `invalid` author names are represented as pairs, where the first element contains the `record id` the author contributed to, the second element contains the name itself, such as `(recid, full_name)`."
   ]
  },
  {
   "cell_type": "code",
   "execution_count": 15,
   "metadata": {
    "collapsed": false
   },
   "outputs": [
    {
     "name": "stdout",
     "output_type": "stream",
     "text": [
      "aeiou aeiou o nN u\n",
      "5015\n"
     ]
    }
   ],
   "source": [
    "p = re.compile(r\"^([a-zA-Z]+[-',.~\\s]*[a-zA-Z]*){3,}\", flags=re.UNICODE)\n",
    "\n",
    "# http://fabzter.com/blog/remove-nonspacing-characters-text-python\n",
    "print(unidecode(u\"áéíóú äëïöü ø ñÑ û\"))  # Test removing accents and stuff\n",
    "\n",
    "# Match invalid author names in signatures\n",
    "invalid_pairs = []  # pair representing (record_id, author_name)\n",
    "for signature in signatures.itervalues():\n",
    "    author_name = signature[\"author_name\"]\n",
    "\n",
    "    if not p.match(unidecode(author_name)):\n",
    "        invalid_pairs.append( (signature[\"publication_id\"], author_name) )\n",
    "\n",
    "print len(invalid_pairs)"
   ]
  }
 ],
 "metadata": {
  "kernelspec": {
   "display_name": "Python 2",
   "language": "python",
   "name": "python2"
  },
  "language_info": {
   "codemirror_mode": {
    "name": "ipython",
    "version": 2
   },
   "file_extension": ".py",
   "mimetype": "text/x-python",
   "name": "python",
   "nbconvert_exporter": "python",
   "pygments_lexer": "ipython2",
   "version": "2.7.11"
  }
 },
 "nbformat": 4,
 "nbformat_minor": 0
}
