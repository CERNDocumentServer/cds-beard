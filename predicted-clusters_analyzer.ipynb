{
 "cells": [
  {
   "cell_type": "markdown",
   "metadata": {
    "collapsed": true
   },
   "source": [
    "Final results of `Predicted Clusters`. Such clusters have been created by `clustering.py` of the Beard application that groups together signatures belonging to the same author, where each author is represented by a `Predicted Cluster` (key-value pair in a JSON array)."
   ]
  },
  {
   "cell_type": "code",
   "execution_count": 2,
   "metadata": {
    "collapsed": true
   },
   "outputs": [],
   "source": [
    "import numpy as np\n",
    "import pandas as pd\n",
    "\n",
    "from itertools import chain\n",
    "from json import load\n",
    "from math import ceil"
   ]
  },
  {
   "cell_type": "code",
   "execution_count": 3,
   "metadata": {
    "collapsed": false
   },
   "outputs": [],
   "source": [
    "predicted_clusters = load(open(\"/data01/beard/clustering/predicted_clusters.json\"))"
   ]
  },
  {
   "cell_type": "code",
   "execution_count": 4,
   "metadata": {
    "collapsed": false
   },
   "outputs": [],
   "source": [
    "signatures = load(open(\"/data01/beard/clustering/signatures.json\"))\n",
    "signatures = {s[\"signature_id\"]: s for s in signatures}"
   ]
  },
  {
   "cell_type": "code",
   "execution_count": 70,
   "metadata": {
    "collapsed": false
   },
   "outputs": [
    {
     "data": {
      "text/html": [
       "<div>\n",
       "<table border=\"1\" class=\"dataframe\">\n",
       "  <thead>\n",
       "    <tr style=\"text-align: right;\">\n",
       "      <th></th>\n",
       "      <th>Count</th>\n",
       "    </tr>\n",
       "  </thead>\n",
       "  <tbody>\n",
       "    <tr>\n",
       "      <th>Signatures</th>\n",
       "      <td>8958311</td>\n",
       "    </tr>\n",
       "    <tr>\n",
       "      <th>Predicted Clusters</th>\n",
       "      <td>395720</td>\n",
       "    </tr>\n",
       "  </tbody>\n",
       "</table>\n",
       "</div>"
      ],
      "text/plain": [
       "                      Count\n",
       "Signatures          8958311\n",
       "Predicted Clusters   395720"
      ]
     },
     "execution_count": 70,
     "metadata": {},
     "output_type": "execute_result"
    }
   ],
   "source": [
    "data = [len(signatures), len(predicted_clusters)]\n",
    "index = ['Signatures',  # Total number of signatures\n",
    "         'Predicted Clusters',  # Total number of predicted clusters\n",
    "        ]\n",
    "d = {'Count': data}\n",
    "df = pd.DataFrame(data=d, index=index)\n",
    "df"
   ]
  },
  {
   "cell_type": "markdown",
   "metadata": {},
   "source": [
    "Since signature ids are in the format `<publication id>_<author fullname>_<continous number>`, it easily allows you to find the cluster a signature belongs to:"
   ]
  },
  {
   "cell_type": "code",
   "execution_count": 56,
   "metadata": {
    "collapsed": false
   },
   "outputs": [
    {
     "name": "stdout",
     "output_type": "stream",
     "text": [
      "366147\n"
     ]
    }
   ],
   "source": [
    "for cluster in predicted_clusters:\n",
    "    if any(\"_Ellis, John\" in signature_id for signature_id in predicted_clusters[cluster]):\n",
    "        print cluster"
   ]
  },
  {
   "cell_type": "markdown",
   "metadata": {},
   "source": [
    "A predicted cluster is represented as a key-value pair:"
   ]
  },
  {
   "cell_type": "code",
   "execution_count": 58,
   "metadata": {
    "collapsed": false
   },
   "outputs": [
    {
     "data": {
      "text/plain": [
       "{'50000': [u'1188053_Plisson, T_3903969',\n",
       "  u'1206153_Plisson, Thomas_3939787',\n",
       "  u'1278942_Plisson, Thomas_4236535',\n",
       "  u'1390661_Plisson, T_4999845',\n",
       "  u'1463222_Plisson, Thomas_5704725']}"
      ]
     },
     "execution_count": 58,
     "metadata": {},
     "output_type": "execute_result"
    }
   ],
   "source": [
    "cluster = \"50000\"\n",
    "{cluster: predicted_clusters[cluster]}"
   ]
  },
  {
   "cell_type": "markdown",
   "metadata": {},
   "source": [
    "Lets do some statistics for the predicted clusters:"
   ]
  },
  {
   "cell_type": "code",
   "execution_count": 32,
   "metadata": {
    "collapsed": false
   },
   "outputs": [],
   "source": [
    "# List of predicted_cluster `keys`, sorted by the number of signatures each cluster\n",
    "predicted_clusters_sorted = sorted(predicted_clusters,\n",
    "                                   key=lambda k: len(predicted_clusters[k]))\n",
    "\n",
    "# List of the number of signatures each cluster, in ascending order\n",
    "predicted_clusters_size_sorted = [\n",
    "    len(predicted_clusters[c]) for c in predicted_clusters_sorted]\n",
    "\n",
    "s_mean = np.mean(np.array(predicted_clusters_size_sorted))\n",
    "c_median = np.median(np.array(predicted_clusters_size_sorted))\n",
    "c_min = predicted_clusters_size_sorted[0]\n",
    "c_max = predicted_clusters_size_sorted[len(predicted_clusters_size_sorted) - 1]\n",
    "\n",
    "# Number of clusters below and above the mean cluster size of 23:\n",
    "# If `ValueError: mean is not in list`, try +/- 1 until index found\n",
    "mean = ceil(s_mean)\n",
    "c_equal_mean = predicted_clusters_size_sorted.count(mean)\n",
    "c_below_mean = predicted_clusters_size_sorted.index(mean) - 1\n",
    "c_above_mean = len(predicted_clusters) - below_mean\n",
    "assert(below_mean + above_mean == len(predicted_clusters))"
   ]
  },
  {
   "cell_type": "code",
   "execution_count": 36,
   "metadata": {
    "collapsed": false
   },
   "outputs": [
    {
     "data": {
      "text/html": [
       "<div>\n",
       "<table border=\"1\" class=\"dataframe\">\n",
       "  <thead>\n",
       "    <tr style=\"text-align: right;\">\n",
       "      <th></th>\n",
       "      <th>Count</th>\n",
       "    </tr>\n",
       "  </thead>\n",
       "  <tbody>\n",
       "    <tr>\n",
       "      <th>Total</th>\n",
       "      <td>395720.000000</td>\n",
       "    </tr>\n",
       "    <tr>\n",
       "      <th>Arithmetic mean m</th>\n",
       "      <td>22.638002</td>\n",
       "    </tr>\n",
       "    <tr>\n",
       "      <th>Median</th>\n",
       "      <td>2.000000</td>\n",
       "    </tr>\n",
       "    <tr>\n",
       "      <th>Below (&lt;) m</th>\n",
       "      <td>342983.000000</td>\n",
       "    </tr>\n",
       "    <tr>\n",
       "      <th>Above (&gt;=) m</th>\n",
       "      <td>52737.000000</td>\n",
       "    </tr>\n",
       "    <tr>\n",
       "      <th>Min</th>\n",
       "      <td>1.000000</td>\n",
       "    </tr>\n",
       "    <tr>\n",
       "      <th>Max</th>\n",
       "      <td>2807.000000</td>\n",
       "    </tr>\n",
       "  </tbody>\n",
       "</table>\n",
       "</div>"
      ],
      "text/plain": [
       "                           Count\n",
       "Total              395720.000000\n",
       "Arithmetic mean m      22.638002\n",
       "Median                  2.000000\n",
       "Below (<) m        342983.000000\n",
       "Above (>=) m        52737.000000\n",
       "Min                     1.000000\n",
       "Max                  2807.000000"
      ]
     },
     "execution_count": 36,
     "metadata": {},
     "output_type": "execute_result"
    }
   ],
   "source": [
    "# Print results\n",
    "data = [len(predicted_clusters_size_sorted),\n",
    "        s_mean,\n",
    "        c_median,\n",
    "        c_below_mean,\n",
    "        c_above_mean,\n",
    "        c_min,\n",
    "        c_max,\n",
    "       ]\n",
    "index = ['Total',  # Total number of predicted clusters\n",
    "         'Arithmetic mean m',  # Average cluster size (number of signatures for each cluster)\n",
    "         'Median',  # Median of the cluster size\n",
    "         'Below (<) m',  # Number of clusters below having less signatures than the average size\n",
    "         'Above (>=) m',  # Number of clusters below having more or equal signatures than the average size\n",
    "         'Min',  # Lowest cluster size\n",
    "         'Max'  # Biggest cluster size\n",
    "        ]\n",
    "d = {'Count': data}\n",
    "df = pd.DataFrame(data=d, index=index)\n",
    "# s = pd.Series(data, index=index)\n",
    "df"
   ]
  },
  {
   "cell_type": "code",
   "execution_count": 65,
   "metadata": {
    "collapsed": false
   },
   "outputs": [],
   "source": [
    "# Format: {cluster: list of signature ids having a authority id}\n",
    "clusters_having_cds_id = {}\n",
    "clusters_having_cern_id = {}\n",
    "clusters_having_inspire_id = {}\n",
    "\n",
    "for cluster in predicted_clusters:\n",
    "    for signature_id in predicted_clusters[cluster]:\n",
    "        signature = signatures[signature_id]\n",
    "\n",
    "        if signature.get(\"author_cds_id\"):\n",
    "            try:\n",
    "                clusters_having_cds_id[cluster].append(signature_id)\n",
    "            except KeyError:\n",
    "                clusters_having_cds_id[cluster] = [signature_id]\n",
    "\n",
    "        if signature.get(\"author_cern_id\"):\n",
    "            try:\n",
    "                clusters_having_cern_id[cluster].append(signature_id)\n",
    "            except KeyError:\n",
    "                clusters_having_cern_id[cluster] = [signature_id]\n",
    "\n",
    "        if signature.get(\"author_inspire_id\"):\n",
    "            try:\n",
    "                clusters_having_inspire_id[cluster].append(signature_id)\n",
    "            except KeyError:\n",
    "                clusters_having_inspire_id[cluster] = [signature_id]\n",
    "\n",
    "s_cds = sum(len(cluster) for cluster in clusters_having_cds_id.itervalues())\n",
    "c_cds = len(clusters_having_cds_id)\n",
    "s_cern = sum(len(cluster) for cluster in clusters_having_cern_id.itervalues())\n",
    "c_cern = len(clusters_having_cern_id)\n",
    "s_inspire = sum(len(cluster) for cluster in clusters_having_inspire_id.itervalues())\n",
    "c_inspire = len(clusters_having_inspire_id)\n",
    "\n",
    "# Distinct signatures\n",
    "s_distinct = len(\n",
    "    set(list(chain.from_iterable([s for s in clusters_having_cds_id.itervalues()])) +\n",
    "        list(chain.from_iterable([s for s in clusters_having_cern_id.itervalues()])) +\n",
    "        list(chain.from_iterable([s for s in clusters_having_inspire_id.itervalues()]))))\n",
    "\n",
    "# Distinct clusters\n",
    "c_distinct = len(\n",
    "    set(clusters_having_cds_id.keys() +\n",
    "        clusters_having_cern_id.keys() +\n",
    "        clusters_having_inspire_id.keys()))"
   ]
  },
  {
   "cell_type": "code",
   "execution_count": 69,
   "metadata": {
    "collapsed": false
   },
   "outputs": [
    {
     "data": {
      "text/html": [
       "<div>\n",
       "<table border=\"1\" class=\"dataframe\">\n",
       "  <thead>\n",
       "    <tr style=\"text-align: right;\">\n",
       "      <th></th>\n",
       "      <th>#Signatures</th>\n",
       "      <th>#Clusters</th>\n",
       "    </tr>\n",
       "  </thead>\n",
       "  <tbody>\n",
       "    <tr>\n",
       "      <th>CDS authority ids</th>\n",
       "      <td>1136</td>\n",
       "      <td>580</td>\n",
       "    </tr>\n",
       "    <tr>\n",
       "      <th>CERN authority ids</th>\n",
       "      <td>1121167</td>\n",
       "      <td>6830</td>\n",
       "    </tr>\n",
       "    <tr>\n",
       "      <th>INSPIRE authority ids</th>\n",
       "      <td>2922943</td>\n",
       "      <td>14665</td>\n",
       "    </tr>\n",
       "    <tr>\n",
       "      <th>Total (distinct)</th>\n",
       "      <td>2927170</td>\n",
       "      <td>15744</td>\n",
       "    </tr>\n",
       "  </tbody>\n",
       "</table>\n",
       "</div>"
      ],
      "text/plain": [
       "                       #Signatures  #Clusters\n",
       "CDS authority ids             1136        580\n",
       "CERN authority ids         1121167       6830\n",
       "INSPIRE authority ids      2922943      14665\n",
       "Total (distinct)           2927170      15744"
      ]
     },
     "execution_count": 69,
     "metadata": {},
     "output_type": "execute_result"
    }
   ],
   "source": [
    "# Print results\n",
    "data = [('CDS authority ids', [s_cds, c_cds]),\n",
    "        ('CERN authority ids', [s_cern, c_cern]),\n",
    "        ('INSPIRE authority ids', [s_inspire, c_inspire]),\n",
    "        ('Total (distinct)', [s_distinct, c_distinct]),\n",
    "       ]\n",
    "columns = ['#Signatures',  # Number of signatures having authority ids\n",
    "           '#Clusters',  # Number of clusters containing signature with authority id\n",
    "          ]\n",
    "df = pd.DataFrame.from_items(data, orient='index', columns=columns)\n",
    "df"
   ]
  }
 ],
 "metadata": {
  "kernelspec": {
   "display_name": "Python 2",
   "language": "python",
   "name": "python2"
  },
  "language_info": {
   "codemirror_mode": {
    "name": "ipython",
    "version": 2
   },
   "file_extension": ".py",
   "mimetype": "text/x-python",
   "name": "python",
   "nbconvert_exporter": "python",
   "pygments_lexer": "ipython2",
   "version": "2.7.11"
  }
 },
 "nbformat": 4,
 "nbformat_minor": 0
}
